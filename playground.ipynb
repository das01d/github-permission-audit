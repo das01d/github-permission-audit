{
 "cells": [
  {
   "cell_type": "code",
   "execution_count": 1,
   "metadata": {},
   "outputs": [],
   "source": [
    "import os\n",
    "from dotenv import load_dotenv\n",
    "import requests\n",
    "import pandas as pd\n",
    "\n",
    "# Load environment variables from .env file\n",
    "load_dotenv()\n",
    "\n",
    "# Get the variable\n",
    "GITHUB_TOKEN = os.getenv('GITHUB_TOKEN')\n",
    "org = \"sherwin-williams-co\"\n",
    "\n",
    "headers = {\"Authorization\": f\"token {GITHUB_TOKEN}\"}"
   ]
  },
  {
   "cell_type": "markdown",
   "metadata": {},
   "source": [
    "## Get list of repos that have the correct topic"
   ]
  },
  {
   "cell_type": "code",
   "execution_count": 2,
   "metadata": {},
   "outputs": [],
   "source": [
    "search_url = f\"https://api.github.com/search/repositories?per_page=100&q=topic:business-platforms+org:{org}\"\n",
    "repos = requests.get(search_url, headers=headers).json().get('items', [])"
   ]
  },
  {
   "cell_type": "code",
   "execution_count": 3,
   "metadata": {},
   "outputs": [],
   "source": [
    "data_dict = pd.DataFrame(repos)\n",
    "ds_list_of_repos_from_topic = data_dict.loc[:,'name']"
   ]
  },
  {
   "cell_type": "markdown",
   "metadata": {},
   "source": [
    "## Get list of repos from our groups that should have access"
   ]
  },
  {
   "cell_type": "code",
   "execution_count": 4,
   "metadata": {},
   "outputs": [],
   "source": [
    "def get_team_repos(team_slug):\n",
    "    repos_url = f\"https://api.github.com/orgs/{org}/teams/{team_slug}/repos?per_page=100\"\n",
    "    response = requests.get(repos_url, headers=headers)\n",
    "    if response.status_code == 200:\n",
    "        return response.json()\n",
    "    else:\n",
    "        raise(f\"Error: {response.status_code}\")\n",
    "    "
   ]
  },
  {
   "cell_type": "code",
   "execution_count": 5,
   "metadata": {},
   "outputs": [],
   "source": [
    "resp_admins = get_team_repos(team_slug = \"gg-aad-dss-digitalit-iom-gatekeepers\")\n",
    "resp_devs = get_team_repos(team_slug = \"gg-aad-dss-digitalit-iom-developers\")"
   ]
  },
  {
   "cell_type": "code",
   "execution_count": 6,
   "metadata": {},
   "outputs": [],
   "source": [
    "def shape_data(resp):\n",
    "    temp_data_frame = pd.DataFrame(resp)\n",
    "\n",
    "    # extract the permissions.admin attribute from the json in the 'permissions' column\n",
    "    temp_data_frame['has_admin_permission'] = temp_data_frame['permissions'].apply(lambda x: x['admin'])\n",
    "\n",
    "    # reshape to only include the rows needed\n",
    "    temp_data_frame = pd.DataFrame(temp_data_frame.loc[:,['name','has_admin_permission']])\n",
    "    return temp_data_frame"
   ]
  },
  {
   "cell_type": "code",
   "execution_count": 7,
   "metadata": {},
   "outputs": [],
   "source": [
    "ds_admin_repos = shape_data(resp_admins)\n",
    "ds_dev_repos = shape_data(resp_devs)"
   ]
  },
  {
   "cell_type": "markdown",
   "metadata": {},
   "source": [
    "### Get a unique list of all the repos"
   ]
  },
  {
   "cell_type": "code",
   "execution_count": 8,
   "metadata": {},
   "outputs": [],
   "source": [
    "# Get a unique list of all the repos by taking the name column from the ds_admin_repos, ds_dev_repos, and ds_list_of_repos_from_topic dataframes and remove duplicates\n",
    "ds_all_repos = pd.concat([ds_admin_repos, ds_dev_repos, ds_list_of_repos_from_topic], axis=0)\n",
    "# keep only the name column\n",
    "ds_all_repos = pd.DataFrame(ds_all_repos.loc[:,'name'])\n",
    "\n",
    "ds_all_repos = ds_all_repos.drop_duplicates(subset='name').reset_index(drop=True)\n"
   ]
  },
  {
   "cell_type": "code",
   "execution_count": 9,
   "metadata": {},
   "outputs": [],
   "source": [
    "# Copy all_repos into a new \"report\" dataframe\n",
    "ds_report = ds_all_repos.copy()\n",
    "\n",
    "for r in ds_list_of_repos_from_topic:\n",
    "    # lookup name ds_report name column and update 'topic-present' to true if it exists\n",
    "    ds_report.loc[ds_report['name'] == r, 'topic-present'] = True\n",
    "\n",
    "# loop through ds_admin_repos.  update the column 'has-admin-team-present' to true in the ds_report data frame where the repo name matches\n",
    "for r in ds_dev_repos['name' ]:\n",
    "    # lookup name ds_report name column and update 'dev-team-present' to true if it exists\n",
    "    ds_report.loc[ds_report['name'] == r, 'dev-team-present'] = True\n",
    "    # update 'dev-team-has-admin-permission' to true if the repo has admin permission\n",
    "    ds_report.loc[ds_report['name'] == r, 'dev-team-has-admin-permission'] = ds_dev_repos.loc[ds_dev_repos['name'] == r, 'has_admin_permission'].values[0]\n",
    "    \n",
    "for r in ds_admin_repos['name' ]:\n",
    "    # lookup name ds_report name column and update 'dev-team-present' to true if it exists\n",
    "    ds_report.loc[ds_report['name'] == r, 'gatekeeper-team-present'] = True\n",
    "    # update 'dev-team-has-admin-permission' to true if the repo has admin permission\n",
    "    ds_report.loc[ds_report['name'] == r, 'gatekeeper-team-has-admin-permission'] = ds_admin_repos.loc[ds_admin_repos['name'] == r, 'has_admin_permission'].values[0]"
   ]
  },
  {
   "cell_type": "code",
   "execution_count": 10,
   "metadata": {},
   "outputs": [],
   "source": [
    "# export ds_report to a csv file\n",
    "ds_report.to_csv('report.csv', index=False)"
   ]
  }
 ],
 "metadata": {
  "kernelspec": {
   "display_name": "Python 3",
   "language": "python",
   "name": "python3"
  },
  "language_info": {
   "codemirror_mode": {
    "name": "ipython",
    "version": 3
   },
   "file_extension": ".py",
   "mimetype": "text/x-python",
   "name": "python",
   "nbconvert_exporter": "python",
   "pygments_lexer": "ipython3",
   "version": "3.12.3"
  }
 },
 "nbformat": 4,
 "nbformat_minor": 2
}

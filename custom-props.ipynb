{
 "cells": [
  {
   "cell_type": "code",
   "execution_count": 1,
   "metadata": {},
   "outputs": [],
   "source": [
    "import os\n",
    "from dotenv import load_dotenv\n",
    "import requests\n",
    "import pandas as pd\n",
    "\n",
    "# Load environment variables from .env file\n",
    "load_dotenv()\n",
    "\n",
    "# Get the variable\n",
    "GITHUB_TOKEN = os.getenv('GITHUB_TOKEN')\n",
    "org = \"sherwin-williams-co\"\n",
    "\n",
    "headers = {\"Authorization\": f\"token {GITHUB_TOKEN}\"}"
   ]
  },
  {
   "cell_type": "markdown",
   "metadata": {},
   "source": [
    "### Get the custom properties for a repo"
   ]
  },
  {
   "cell_type": "code",
   "execution_count": 20,
   "metadata": {},
   "outputs": [],
   "source": [
    "# get custom property of the repo: CMDB-Business-Application-Number\n",
    "def get_repo_custom_property(repo_name, custom_property_name):\n",
    "    url = f\"https://api.github.com/repos/{org}/{repo_name}/properties/values\"\n",
    "    response = requests.get(url, headers=headers)\n",
    "    response_json = response.json()\n",
    "\n",
    "    #initialize props\n",
    "    props = {}\n",
    "\n",
    "    for prop in response_json:\n",
    "        props =  {prop[\"property_name\"]: prop[\"value\"]}\n",
    "\n",
    "    return props\n",
    "    \n",
    "result = get_repo_custom_property(\"bupl-territory-domain\", \"CMDB-Business-Application-Number\")"
   ]
  },
  {
   "cell_type": "markdown",
   "metadata": {},
   "source": [
    "### Update the custom properties for a repo"
   ]
  },
  {
   "cell_type": "code",
   "execution_count": 19,
   "metadata": {},
   "outputs": [
    {
     "data": {
      "text/plain": [
       "204"
      ]
     },
     "execution_count": 19,
     "metadata": {},
     "output_type": "execute_result"
    }
   ],
   "source": [
    "def update_repo_custom_property(repo_name, custom_property_name, custom_property_value):\n",
    "    url = f\"https://api.github.com/repos/{org}/{repo_name}/properties/values\"\n",
    "    json = {\n",
    "        \"properties\": [\n",
    "            {\n",
    "                \"property_name\": custom_property_name,\n",
    "                \"value\": custom_property_value\n",
    "            }\n",
    "        ]\n",
    "    }\n",
    "    response = requests.patch(url, headers=headers, json=json)\n",
    "    return response.status_code\n",
    "\n",
    "update_repo_custom_property(\"bupl-territory-domain\", \"CMDB-Business-Application-Number\", \"12345\")"
   ]
  },
  {
   "cell_type": "markdown",
   "metadata": {},
   "source": [
    "### NEXT: Loop through a spreadsheet with the mappings and update the custom properties to align with the CMDB"
   ]
  },
  {
   "cell_type": "code",
   "execution_count": null,
   "metadata": {},
   "outputs": [],
   "source": []
  }
 ],
 "metadata": {
  "kernelspec": {
   "display_name": ".venv",
   "language": "python",
   "name": "python3"
  },
  "language_info": {
   "codemirror_mode": {
    "name": "ipython",
    "version": 3
   },
   "file_extension": ".py",
   "mimetype": "text/x-python",
   "name": "python",
   "nbconvert_exporter": "python",
   "pygments_lexer": "ipython3",
   "version": "3.12.3"
  }
 },
 "nbformat": 4,
 "nbformat_minor": 2
}
